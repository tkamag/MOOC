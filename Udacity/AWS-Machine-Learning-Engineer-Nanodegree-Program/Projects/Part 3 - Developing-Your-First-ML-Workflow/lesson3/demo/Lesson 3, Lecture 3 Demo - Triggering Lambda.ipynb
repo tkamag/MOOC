{
 "cells": [
  {
   "cell_type": "markdown",
   "id": "02d4826a",
   "metadata": {},
   "source": [
    "# UDACITY Demo - Triggering Lambda"
   ]
  },
  {
   "cell_type": "code",
   "execution_count": null,
   "id": "a88bf9cc",
   "metadata": {},
   "outputs": [],
   "source": [
    "import boto3\n",
    "from sagemaker import get_execution_role ## The SageMaker role executing your notebook needs to have Lambda permissions. \n",
    "import json\n",
    "\n",
    "client = boto3.client('lambda')\n",
    "\n",
    "payload = {'key': 'value'}\n",
    "\n",
    "# json.dumps turns a JSON-object-like python object into a string, and .encode('utf-8') encodes the \n",
    "# the string so that it can be properly passed to the client. \n",
    "\n",
    "payload_bytes = json.dumps(payload).encode('utf-8')\n",
    "\n",
    "response = client.invoke(\n",
    "    FunctionName='example123',\n",
    "    InvocationType='Event',\n",
    "    Payload=payload_bytes\n",
    ")"
   ]
  }
 ],
 "metadata": {
  "kernelspec": {
   "display_name": "Python 3 (ipykernel)",
   "language": "python",
   "name": "python3"
  },
  "language_info": {
   "codemirror_mode": {
    "name": "ipython",
    "version": 3
   },
   "file_extension": ".py",
   "mimetype": "text/x-python",
   "name": "python",
   "nbconvert_exporter": "python",
   "pygments_lexer": "ipython3",
   "version": "3.8.0"
  }
 },
 "nbformat": 4,
 "nbformat_minor": 5
}
