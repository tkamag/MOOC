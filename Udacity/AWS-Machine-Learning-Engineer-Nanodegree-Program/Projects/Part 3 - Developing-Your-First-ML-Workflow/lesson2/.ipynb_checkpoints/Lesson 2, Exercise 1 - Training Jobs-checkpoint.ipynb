{
 "cells": [
  {
   "cell_type": "markdown",
   "id": "17d07dd2",
   "metadata": {},
   "source": [
    "# UDACITY SageMaker Essentials: Training Job Exercise"
   ]
  },
  {
   "cell_type": "markdown",
   "id": "f71ab7eb",
   "metadata": {},
   "source": [
    "Good job on your work so far! You've gotten an overview of building an ML Workflow in AWS. Now, it's time to practice your skills. In this exercise, you will be training a BlazingText model to help predict the helpfulness of Amazon reviews. The model & parameters have already been chosen for you; it's your task to properly upload the data necessary for the job and launch the training.  "
   ]
  },
  {
   "cell_type": "code",
   "execution_count": 6,
   "id": "19aed147",
   "metadata": {},
   "outputs": [
    {
     "name": "stdout",
     "output_type": "stream",
     "text": [
      "arn:aws:iam::565094796913:role/execution_role\n"
     ]
    }
   ],
   "source": [
    "# Note for Huimin: Some of the setup code has been taken from the L6 curriculum. \n",
    "\n",
    "import os\n",
    "import boto3\n",
    "import sagemaker\n",
    "\n",
    "import pandas as pd\n",
    "import numpy as np\n",
    "\n",
    "\n",
    "\n",
    "# create a default bucket\n",
    "bucket = sagemaker.Session().default_bucket()\n",
    "prefix = \"sagemaker/UDACITY-amazon-blazingText\"\n",
    "\n",
    "# Define IAM role\n",
    "from sagemaker import get_execution_role\n",
    "\n",
    "try:\n",
    "    role = get_execution_role('sagemaker')\n",
    "except:\n",
    "    iam = boto3.client('iam')\n",
    "    # Had an issue with authentication, code is from https://github.com/aws-samples/aws-deepracer-workshops/issues/47\n",
    "    role = iam.get_role(RoleName='execution_role')['Role']['Arn']\n",
    "\n",
    "\n",
    "print(role)\n"
   ]
  },
  {
   "cell_type": "markdown",
   "id": "0aed289a",
   "metadata": {},
   "source": [
    "## Preprocessing"
   ]
  },
  {
   "cell_type": "markdown",
   "id": "0172dab3",
   "metadata": {},
   "source": [
    "## Upload Data"
   ]
  },
  {
   "cell_type": "markdown",
   "id": "8b01555c",
   "metadata": {},
   "source": [
    "## Import SageMaker BlazingText"
   ]
  },
  {
   "cell_type": "markdown",
   "id": "5f427dd5",
   "metadata": {},
   "source": [
    "## Train SageMaker Model"
   ]
  },
  {
   "cell_type": "markdown",
   "id": "2acd8d0a",
   "metadata": {},
   "source": [
    "## Citations"
   ]
  },
  {
   "cell_type": "markdown",
   "id": "639d0bf9",
   "metadata": {},
   "source": [
    "Ups and downs: Modeling the visual evolution of fashion trends with one-class collaborative filtering  \n",
    "R. He, J. McAuley  \n",
    "WWW, 2016\n",
    "\n",
    "\n",
    "Image-based recommendations on styles and substitutes  \n",
    "J. McAuley, C. Targett, J. Shi, A. van den Hengel  \n",
    "SIGIR, 2015\n"
   ]
  },
  {
   "cell_type": "code",
   "execution_count": null,
   "id": "7a0a09bc",
   "metadata": {},
   "outputs": [],
   "source": []
  }
 ],
 "metadata": {
  "kernelspec": {
   "display_name": "Python 3 (ipykernel)",
   "language": "python",
   "name": "python3"
  },
  "language_info": {
   "codemirror_mode": {
    "name": "ipython",
    "version": 3
   },
   "file_extension": ".py",
   "mimetype": "text/x-python",
   "name": "python",
   "nbconvert_exporter": "python",
   "pygments_lexer": "ipython3",
   "version": "3.8.0"
  }
 },
 "nbformat": 4,
 "nbformat_minor": 5
}
