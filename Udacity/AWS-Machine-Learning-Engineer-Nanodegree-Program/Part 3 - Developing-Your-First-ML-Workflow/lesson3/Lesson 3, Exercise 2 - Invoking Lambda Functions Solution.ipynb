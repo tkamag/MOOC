{
 "cells": [
  {
   "cell_type": "markdown",
   "id": "5cc872eb",
   "metadata": {},
   "source": [
    "# UDACITY : Designing Your First Workflow - Invoking Lambda Functions Solution"
   ]
  },
  {
   "cell_type": "markdown",
   "id": "be21ec8c",
   "metadata": {},
   "source": [
    "## Synchronous invocation Solution"
   ]
  },
  {
   "cell_type": "code",
   "execution_count": null,
   "id": "31159809",
   "metadata": {},
   "outputs": [],
   "source": [
    "%%bash \n",
    "aws lambda invoke --function-name preprocess-helloblze --payload '{\"s3-dataset-uri\": \"udacity-sagemaker-solutiondata2021/l3e1/reviews_Musical_Instruments_5.json.zip\"}' response.json"
   ]
  },
  {
   "cell_type": "markdown",
   "id": "f98ff13e",
   "metadata": {},
   "source": [
    "## Asynchronous invocation Solution"
   ]
  },
  {
   "cell_type": "code",
   "execution_count": null,
   "id": "0a0018ce",
   "metadata": {},
   "outputs": [],
   "source": [
    "import json\n",
    "import urllib\n",
    "from HelloBlazePreprocessLambda import preprocess\n",
    "\n",
    "def lambda_handler(event, context):\n",
    "    for r in event['Records']:\n",
    "        bucket = r['s3']['bucket']['name']\n",
    "        key = urllib.parse.unquote_plus(r['s3']['object']['key'], encoding='utf-8')\n",
    "        uri = \"/\".join([bucket, key])\n",
    "        preprocess(uri)\n",
    "    return {\n",
    "        'statusCode': 200,\n",
    "        'body': \"Good to go!\"\n",
    "    }"
   ]
  },
  {
   "cell_type": "code",
   "execution_count": null,
   "id": "5dcdb0dd",
   "metadata": {},
   "outputs": [],
   "source": []
  }
 ],
 "metadata": {
  "kernelspec": {
   "display_name": "Python 3 (ipykernel)",
   "language": "python",
   "name": "python3"
  },
  "language_info": {
   "codemirror_mode": {
    "name": "ipython",
    "version": 3
   },
   "file_extension": ".py",
   "mimetype": "text/x-python",
   "name": "python",
   "nbconvert_exporter": "python",
   "pygments_lexer": "ipython3",
   "version": "3.8.0"
  }
 },
 "nbformat": 4,
 "nbformat_minor": 5
}
