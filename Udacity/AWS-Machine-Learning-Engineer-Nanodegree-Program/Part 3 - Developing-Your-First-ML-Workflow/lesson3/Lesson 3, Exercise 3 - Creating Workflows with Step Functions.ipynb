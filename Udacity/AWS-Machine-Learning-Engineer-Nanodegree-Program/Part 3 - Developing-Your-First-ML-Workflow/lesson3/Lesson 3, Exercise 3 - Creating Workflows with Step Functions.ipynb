{
 "cells": [
  {
   "cell_type": "markdown",
   "id": "c5dc198f",
   "metadata": {},
   "source": [
    "# UDACITY Designing Your First Workflow - Step Functions"
   ]
  },
  {
   "cell_type": "markdown",
   "id": "a00c09c5",
   "metadata": {},
   "source": [
    "## Step Functions & SageMaker"
   ]
  },
  {
   "cell_type": "markdown",
   "id": "2c2a5b51",
   "metadata": {},
   "source": [
    "In the prior exercises, we've been working with many small services. This can be overwhelming for a data scientist that wants to establish a consistent methodology for handling data. Step Functions is an orchestration service that can allow us to utilize SageMaker in a methodical and consistent way. Step Functions also integrates with Lambda, which can allow us to potentially automate our entire machine learning pipeline end-to-end. Let's get a handle on what a 'step' in a step function looks like.\n",
    "\n",
    "In this exercise, you will create a preprocessing step and a training step. Then you will create a step function to chain the two steps."
   ]
  },
  {
   "cell_type": "markdown",
   "id": "3e5c1c6b",
   "metadata": {},
   "source": [
    "## Exercise: Grant Permissions and install packages."
   ]
  },
  {
   "cell_type": "markdown",
   "id": "1d76a91b",
   "metadata": {},
   "source": [
    "Attach the IAMFullAccess and the StepFunctionsFullAccess polices to your SageMaker execution role."
   ]
  },
  {
   "cell_type": "code",
   "execution_count": null,
   "id": "981094fe",
   "metadata": {},
   "outputs": [],
   "source": [
    "%%bash\n",
    "pip install stepfunctions"
   ]
  },
  {
   "cell_type": "markdown",
   "id": "2980c12c",
   "metadata": {},
   "source": [
    "## Exercise: Fill out preprocessing step."
   ]
  },
  {
   "cell_type": "markdown",
   "id": "752d3b79",
   "metadata": {},
   "source": [
    "The 'step' interface is designed to be quite similar to the Preprocessing Job in lesson 2. The main difference between these is the ability of a 'step' to interface with other steps. Given the successful outcome of a single step, the next step specified in a workflow will automatically continue. In our case, a training step will launch given the successful outcome of a preprocessing step. The preprocessing step has been encoded for you. Upload the preprocessing code 'HelloBlazePreprocess.py' and the zipped dataset 'reviews_Musical_Instruments_5.json.zip' to s3, and fill out the constants in the code below. "
   ]
  },
  {
   "cell_type": "markdown",
   "id": "0df2f1ac",
   "metadata": {},
   "source": [
    "Code below is the preprocessing step. Fill in the constants in the code."
   ]
  },
  {
   "cell_type": "code",
   "execution_count": 14,
   "id": "9d82815d",
   "metadata": {},
   "outputs": [
    {
     "name": "stdout",
     "output_type": "stream",
     "text": [
      "s3://sagemaker-us-west-2-565094796913/hello_blaze_train_scikit s3://sagemaker-us-west-2-565094796913/hello_blaze_train_scikit\n"
     ]
    }
   ],
   "source": [
    "from sagemaker import get_execution_role\n",
    "from sagemaker.sklearn.processing import SKLearnProcessor\n",
    "from sagemaker.processing import ProcessingInput, ProcessingOutput\n",
    "from stepfunctions.steps.sagemaker import ProcessingStep\n",
    "import sagemaker\n",
    "\n",
    "role = get_execution_role()\n",
    "\n",
    "PREPROCESSING_JOB_NAME = \"CHANGE THIS\"\n",
    "input_data = 'S3 LOCATION OF reviews_Musical_Instruments_5.json.zip'\n",
    "input_preprocessing_code = 'S3 LOCATION OF HelloBlazePreprocess.py'\n",
    "sess = sagemaker.Session()\n",
    "\n",
    "sklearn_processor = SKLearnProcessor(framework_version='0.20.0',\n",
    "                                     role=role,\n",
    "                                     instance_type='ml.m5.large',\n",
    "                                     instance_count=1)\n",
    "\n",
    "\n",
    "processed_data_train = \"{}{}/{}\".format(\"s3://\", sess.default_bucket(), 'hello_blaze_train_scikit')\n",
    "processed_data_test = \"{}{}/{}\".format(\"s3://\", sess.default_bucket(), 'hello_blaze_test_scikit')\n",
    "\n",
    "inputs=[ProcessingInput(source=input_data, destination='/opt/ml/processing/input', input_name = 'input-1'),  ProcessingInput(source=input_preprocessing_code , destination='/opt/ml/processing/input/code', input_name = 'code')]\n",
    "\n",
    "\n",
    "outputs=[ProcessingOutput(source='/opt/ml/processing/output/train', destination=processed_data_train, output_name = 'train_data'), ProcessingOutput(source='/opt/ml/processing/output/test', destination=processed_data_test, output_name = 'test_data')]\n",
    "\n",
    "\n",
    "processing_step = ProcessingStep(\n",
    "    \"SageMaker pre-processing step 4\",\n",
    "    processor=sklearn_processor,\n",
    "    job_name=PREPROCESSING_JOB_NAME,\n",
    "    inputs=inputs,\n",
    "    outputs=outputs,\n",
    "    container_entrypoint=[\"python3\", \"/opt/ml/processing/input/code/HelloBlazePreprocess.py\"],\n",
    ")\n"
   ]
  },
  {
   "cell_type": "markdown",
   "id": "5048e4f3",
   "metadata": {},
   "source": [
    "## Exercise: Fill out Training Step"
   ]
  },
  {
   "cell_type": "markdown",
   "id": "a904f213",
   "metadata": {},
   "source": [
    "Upon the success of the preprocessing step, we wish to execute a training step. A training step is defined below. Fill the constants in the code."
   ]
  },
  {
   "cell_type": "code",
   "execution_count": 21,
   "id": "a7b7118c",
   "metadata": {},
   "outputs": [],
   "source": [
    "from stepfunctions.steps.sagemaker import TrainingStep\n",
    "import boto3\n",
    "\n",
    "WORKFLOW_OUTPUT = \"CHANGE THIS\"\n",
    "TRAINING_JOB_NAME = \"CHANGE THIS\"\n",
    "\n",
    "region_name = boto3.Session().region_name\n",
    "container = sagemaker.image_uris.retrieve(\n",
    "    region=region_name, framework=\"blazingtext\", version=\"latest\"\n",
    ")\n",
    "\n",
    "helloBlazeEstimator = sagemaker.estimator.Estimator(\n",
    "    container,\n",
    "    role=role,\n",
    "    instance_count=1,\n",
    "    instance_type='ml.m5.large',\n",
    "    volume_size=30,\n",
    "    max_run=360000,\n",
    "    input_mode=\"File\",\n",
    "    output_path=WORKFLOW_OUTPUT,\n",
    "    sagemaker_session=sess,\n",
    ")\n",
    "\n",
    "helloBlazeEstimator.set_hyperparameters(mode='supervised')\n",
    "\n",
    "training_step = TrainingStep(\n",
    "    \"SageMaker Training Step\",\n",
    "    estimator=helloBlazeEstimator,\n",
    "    data={\"train\": sagemaker.TrainingInput(processed_data_train, content_type=\"text/plain\"), \"validation\": sagemaker.TrainingInput(processed_data_test, content_type=\"text/plain\")},\n",
    "    job_name=TRAINING_JOB_NAME,\n",
    "    wait_for_completion=True,\n",
    ")"
   ]
  },
  {
   "cell_type": "markdown",
   "id": "672f280c",
   "metadata": {},
   "source": [
    "## Exercise: Create Workflow & Execute It. "
   ]
  },
  {
   "cell_type": "markdown",
   "id": "4c549f3b",
   "metadata": {},
   "source": [
    "To link the steps, you'll need to create a role that is capable of doing so. Go to IAM and create a Step Functions role, and attach the CloudWatchEventsFullAccess and SageMakerFullAccess policies. Once done, make use of the above steps to create a workflow. Quick debugging tip: jobs must have a unique name; you'll need to rename job names when debugging. Consider creating a method that will dynamically create unique job names! "
   ]
  },
  {
   "cell_type": "code",
   "execution_count": null,
   "id": "c4c39201",
   "metadata": {},
   "outputs": [],
   "source": [
    "from stepfunctions.steps import Chain\n",
    "from stepfunctions.workflow import Workflow\n",
    "\n",
    "workflow_role = \"CHANGE THIS\"\n",
    "\n",

    "workflow_graph = Chain([processing_step, training_step])\n",

    "workflow = Workflow(\n",
    "    name=\"CHANGE THIS\",\n",
    "    definition=workflow_graph,\n",
    "    role=workflow_role,\n",
    ")\n",
    "\n",
    "workflow.create()\n",
    "\n",
    "execution = workflow.execute(\n",
    "    inputs={\n",
    "        \"PreprocessingJobName\": PREPROCESSING_JOB_NAME,  # Each pre processing job (SageMaker processing job) requires a unique name,\n",
    "        \"TrainingJobName\": TRAINING_JOB_NAME  # Each Sagemaker Training job requires a unique name,       \n",
    "    }\n",
    ")\n",
    "\n",
    "execution_output = execution.get_output(wait=True)"
   ]
  },
  {
   "cell_type": "markdown",
   "id": "d49a3122",
   "metadata": {},
   "source": [
    "You can track the outcome of this workflow through a custom UI that gets generated! Check it out!"
   ]
  },
  {
   "cell_type": "code",
   "execution_count": null,
   "id": "c81e08b9",
   "metadata": {},
   "outputs": [],
   "source": [
    "execution.render_progress()"
   ]
  }
 ],
 "metadata": {
  "kernelspec": {
   "display_name": "Python 3 (ipykernel)",
   "language": "python",
   "name": "python3"
  },
  "language_info": {
   "codemirror_mode": {
    "name": "ipython",
    "version": 3
   },
   "file_extension": ".py",
   "mimetype": "text/x-python",
   "name": "python",
   "nbconvert_exporter": "python",
   "pygments_lexer": "ipython3",
   "version": "3.8.0"
  }
 },
 "nbformat": 4,
 "nbformat_minor": 5
}
