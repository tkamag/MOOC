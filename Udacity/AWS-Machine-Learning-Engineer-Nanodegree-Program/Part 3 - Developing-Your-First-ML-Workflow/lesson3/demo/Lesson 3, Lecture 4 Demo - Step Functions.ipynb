{
 "cells": [
  {
   "cell_type": "markdown",
   "id": "ceb62ded",
   "metadata": {},
   "source": [
    "# UDACITY Demo - Step Functions"
   ]
  },
  {
   "cell_type": "code",
   "execution_count": null,
   "id": "4238a462",
   "metadata": {},
   "outputs": [],
   "source": [
    "import boto3\n",
    "from sagemaker import get_execution_role\n",
    "\n",
    "client = boto3.client('stepfunctions')\n",
    "\n",
    "# Definitions are unweildly and also not valid python objects. Consider also using the Step interface\n",
    "# for the services you wish to invoke, or just constructing a Step Function through the UI \n",
    "# and pasting the definition that is automatically generated. \n",
    "\n",
    "definition = \"\"\"{\n",
    "  \"Comment\": \"A Hello World example of the Amazon States Language.\",\n",
    "  \"StartAt\": \"Lambda Invoke (First)\", \n",
    "  \"States\": {\n",
    "    \"Lambda Invoke (First)\": {\n",
    "      \"Type\": \"Task\",\n",
    "      \"Resource\": \"arn:aws:states:::lambda:invoke\",\n",
    "      \"OutputPath\": \"$.Payload\",\n",
    "      \"Parameters\": {\n",
    "        \"Payload.$\": \"$\",\n",
    "        \"FunctionName\": \"arn:aws:lambda:us-west-2:565094796913:function:example123:$LATEST\"\n",
    "      },\n",
    "      \"Retry\": [\n",
    "        {\n",
    "          \"ErrorEquals\": [\n",
    "            \"Lambda.ServiceException\",\n",
    "            \"Lambda.AWSLambdaException\",\n",
    "            \"Lambda.SdkClientException\"\n",
    "          ],\n",
    "          \"IntervalSeconds\": 2,\n",
    "          \"MaxAttempts\": 6,\n",
    "          \"BackoffRate\": 2\n",
    "        }\n",
    "      ],\n",
    "      \"Next\": \"Lambda Invoke (Second)\"\n",
    "    },\n",
    "    \"Lambda Invoke (Second)\": {\n",
    "      \"Type\": \"Task\",\n",
    "      \"Resource\": \"arn:aws:states:::lambda:invoke\",\n",
    "      \"OutputPath\": \"$.Payload\",\n",
    "      \"Parameters\": {\n",
    "        \"Payload.$\": \"$\",\n",
    "        \"FunctionName\": \"arn:aws:lambda:us-west-2:565094796913:function:example123:$LATEST\"\n",
    "      },\n",
    "      \"Retry\": [\n",
    "        {\n",
    "          \"ErrorEquals\": [\n",
    "            \"Lambda.ServiceException\",\n",
    "            \"Lambda.AWSLambdaException\",\n",
    "            \"Lambda.SdkClientException\"\n",
    "          ],\n",
    "          \"IntervalSeconds\": 2,\n",
    "          \"MaxAttempts\": 6,\n",
    "          \"BackoffRate\": 2\n",
    "        }\n",
    "      ],\n",
    "      \"End\": true\n",
    "    }\n",
    "  }\n",
    "}\n",
    "\"\"\""
   ]
  },
  {
   "cell_type": "code",
   "execution_count": null,
   "id": "825bb38c",
   "metadata": {},
   "outputs": [],
   "source": [
    "# Your SageMaker execution role needs to have both StepFunctions permission and IAM permission. This\n",
    "# is seperate from the role passed in through 'roleArn' (You need IAM permissions specifically because\n",
    "# you are handling other roles.) The roleArn that's passed into the state machine needs to have permissions\n",
    "# to the services it's invoking. In this case, these are Lambda permissions. \n",
    "\n",
    "response = client.create_state_machine(\n",
    "    name='boto3StateMachine3', # Names need to be unique. \n",
    "    definition=definition,\n",
    "    roleArn='arn:aws:iam::565094796913:role/service-role/StepFunctions-firstStateMachine-role-0826984a',\n",
    "    type='STANDARD',\n",
    "    loggingConfiguration={\n",
    "        'level': 'OFF'\n",
    "    }\n",
    ")\n",
    "print(response)"
   ]
  },
  {
   "cell_type": "code",
   "execution_count": null,
   "id": "e9d45764",
   "metadata": {},
   "outputs": [],
   "source": [
    "response = client.start_execution(\n",
    "    stateMachineArn='arn:aws:states:us-west-2:565094796913:stateMachine:boto3StateMachine3', # You can find this through the Console or through the 'response' object. \n",
    "    name='example1', # Execution names need to be unique within state machines. \n",
    "    input='{}' # Input needs to be at least empty brackets. \n",
    ")"
   ]
  }
 ],
 "metadata": {
  "kernelspec": {
   "display_name": "Python 3 (ipykernel)",
   "language": "python",
   "name": "python3"
  },
  "language_info": {
   "codemirror_mode": {
    "name": "ipython",
    "version": 3
   },
   "file_extension": ".py",
   "mimetype": "text/x-python",
   "name": "python",
   "nbconvert_exporter": "python",
   "pygments_lexer": "ipython3",
   "version": "3.8.0"
  }
 },
 "nbformat": 4,
 "nbformat_minor": 5
}
