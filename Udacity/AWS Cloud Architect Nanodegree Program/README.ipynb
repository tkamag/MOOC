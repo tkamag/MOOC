{
 "cells": [
  {
   "cell_type": "markdown",
   "id": "94796eb4-01ce-4b80-9d9e-41165afcc67c",
   "metadata": {},
   "source": [
    "# [AWS Cloud Architect Nanodegree program](https://www.udacity.com/course/aws-cloud-architect-nanodegree--nd063)\n",
    "Play a critical role in an organization’s cloud computing strategy as an AWS Cloud Architect. Learn to plan, design, and implement secure cloud infrastructure in AWS at scale. Begin by designing and building high availability infrastructure, and then move on to building scalable, secure, and cost-optimized architecture. Finally, explore and execute best practices and strategies around securing access to cloud services and infrastructure.\n",
    "\n",
    "## Projects\n",
    "\n",
    "* [Data durability and recovery]: In this project you will create highly available solutions to common use cases. You will build a Multi-AvailabilityZone, Multi-Region database and show how to use it in multiple geographically separate AWS regions. You will also build a website hosting solution that is versioned so that any data destruction and accidents can be quickly and easily undone.\n",
    "\n",
    "* [Design, Provision and Monitor AWS Infrastructure at Scale]: \n",
    "\n",
    "* [Cloud Security - Protecting Resources and Data in the Cloud]: \n",
    "\n",
    "## Certificate\n"
   ]
  },
  {
   "cell_type": "code",
   "execution_count": null,
   "id": "f8b25c94-554d-417b-85d3-1cf268b4f5ec",
   "metadata": {},
   "outputs": [],
   "source": []
  }
 ],
 "metadata": {
  "kernelspec": {
   "display_name": "Python 3 (ipykernel)",
   "language": "python",
   "name": "python3"
  },
  "language_info": {
   "codemirror_mode": {
    "name": "ipython",
    "version": 3
   },
   "file_extension": ".py",
   "mimetype": "text/x-python",
   "name": "python",
   "nbconvert_exporter": "python",
   "pygments_lexer": "ipython3",
   "version": "3.9.13"
  }
 },
 "nbformat": 4,
 "nbformat_minor": 5
}
