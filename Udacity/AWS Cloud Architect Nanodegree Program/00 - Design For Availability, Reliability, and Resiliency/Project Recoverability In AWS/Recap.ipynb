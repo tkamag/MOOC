{
 "cells": [
  {
   "cell_type": "markdown",
   "id": "8f89f5ed-9269-4a54-b94c-7a8939606e9f",
   "metadata": {},
   "source": [
    "# Project: Recoverability In AWS\n",
    "\n",
    "In this project you will create **highly available solutions to common use cases**. You will build a **Multi-AvailabilityZone, Multi-Region database and show how to use it in multiple geographically separate AWS regions**. You will also build a website hosting solution that is versioned so that any data destruction and accidents can be quickly and easily undone."
   ]
  },
  {
   "cell_type": "markdown",
   "id": "714b61ba-4cf0-440a-bf27-8cf1caa31247",
   "metadata": {},
   "source": [
    "## A.1 GitHub Repository\n",
    "To get started, clone this GitHub repository. Aside from instructions, it contains a **CloudFormation** script to build an **AWS VPC** with public and private subnets. It also contains an example website that you will host in an **AWS S3** bucket in your account.\n",
    "\n",
    "https://github.com/udacity/nd063-c2-design-for-availability-resilience-reliability-replacement-project-starter-template"
   ]
  },
  {
   "cell_type": "markdown",
   "id": "bbf9b002-6689-4325-94d7-bf5bcdf5abd3",
   "metadata": {},
   "source": [
    "## A.2 CloudFormation\n",
    "\n",
    "In this project, you will use the [AWS CloudFormation](https://aws.amazon.com/cloudformation/) to create **Virtual Private Clouds**. \n",
    "> **CloudFormation** is an AWS service that allows you to create **infrastructure as code$**. \n",
    "\n",
    "This allows you to define the infrastructure you'd like to create in code, just like you do with software. This has the benefits of being able to share your infrastructure in a common language, use source code control systems to version your infrastructure and allows for documenting and reviewing of infrastructure and infrastructure proposed changes.\n",
    "\n",
    "**CloudFormation** allows you to use a configuration file written in a YAML file to automate the creation of AWS resources such as VPCs. In this project, you will use a pre-made **CloudFormation** template to get you started. This will allow you to create some of the infrastructure that you'll need without spending a lot of time learning details that are beyond the scope of this course.\n",
    "\n",
    "You can find the YAML file in the GitHub repo: https://github.com/udacity/nd063-c2-design-for-availability-resilience-reliability-replacement-project-starter-template/blob/master/cloudformation/vpc.yaml\n",
    "\n",
    "In order to build a VPC from the YAML file, follow the steps (keep in mind you'll want to name the primary VPC \"Primary\" and the secondary VPC \"Secondary\":\n",
    "\n",
    "1. Services -> CloudFormation\n",
    "2. Create stack **With new resources (standard)**\n",
    "3. Template is ready\n",
    "4. Upload a template file\n",
    "5. Click “Choose file” button\n",
    "6. Select provided YAML file\n",
    "7. Next\n",
    "\n",
    "\n",
    "\n",
    "<figure>\n",
    "  <img src=\"./fig/cloudformationCreate.PNG\" alt=\"..\" title=\"Optional title\" width=\"58%\" height=\"70%\"/>  \n",
    "\t<figcaption></figcaption>\n",
    "</figure>\n",
    "\n",
    "\n",
    "8. Fill in Stack name\n",
    "9. Name the VPC\n",
    "10. Update the CIDR blocks\n",
    "11. Click Next\n",
    "12. Click Next again\n",
    "13. Click Create stack\n",
    "14. Wait for the stack to build out. Refresh until status becomes **CREATE_COMPLETE**\n",
    "15. Observe the “Outputs” tab for the created IDs. These will be used later.\n",
    "\n",
    "Once the **loudFormation** Stack has completed, you can look at the \"Resources\" tab to see all of the AWS resources that the stack has created. You can see both the type of resources that have been created, as well as the **AWS identifiers** for those resources so that you can locate these resources in the **AWS service** that they are a part of.\n",
    "\n",
    "The **Output** tab shows you custom output from the **CloudFormation** Stack that is labeled and described for you. These descriptions are custom descriptions that were added to the **CloudFormation** template and make it easier for you to find specific values that have been created as a part of the **CloudFormation** stack. \n",
    "Here, you can find the VPC ID that has been created, the subnet IDs including which subnets are public and which are private, and the Security Groups that have been created and a description of each.\n",
    "\n",
    "<figure>\n",
    "  <img src=\"./fig/cloudformationoutputs.PNG\" alt=\"..\" title=\"Optional title\" width=\"58%\" height=\"70%\"/>  \n",
    "\t<figcaption></figcaption>\n",
    "</figure>"
   ]
  },
  {
   "cell_type": "code",
   "execution_count": null,
   "id": "f3d57349-65dc-42c4-976a-76d588edb4ff",
   "metadata": {},
   "outputs": [],
   "source": []
  }
 ],
 "metadata": {
  "kernelspec": {
   "display_name": "Python 3.9.13 ('base')",
   "language": "python",
   "name": "python3"
  },
  "language_info": {
   "codemirror_mode": {
    "name": "ipython",
    "version": 3
   },
   "file_extension": ".py",
   "mimetype": "text/x-python",
   "name": "python",
   "nbconvert_exporter": "python",
   "pygments_lexer": "ipython3",
   "version": "3.9.13"
  },
  "vscode": {
   "interpreter": {
    "hash": "49cb93f377a7abe7414b7b0f21fb3017538004a126cf690fb524202736b7fb92"
   }
  }
 },
 "nbformat": 4,
 "nbformat_minor": 5
}
